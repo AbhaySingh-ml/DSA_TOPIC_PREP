{
 "cells": [
  {
   "cell_type": "markdown",
   "id": "799f1d2b-c605-4761-b0f4-6c51f5164ba8",
   "metadata": {},
   "source": [
    "#  What Is a HashMap?"
   ]
  },
  {
   "cell_type": "markdown",
   "id": "ab26366f-e4f4-4649-a8b6-d3699d4f98ae",
   "metadata": {},
   "source": [
    "##### A HashMap (also called a dictionary in Python) is a data structure that stores data in key-value pairs, where:\n",
    "\n",
    "##### Each key must be unique.\n",
    "\n",
    "##### A hash function computes an index (or hash code) to determine where to store the value."
   ]
  },
  {
   "cell_type": "markdown",
   "id": "32029fe5-6ea0-489d-897c-b674cbf2bcba",
   "metadata": {},
   "source": [
    "#### Example:"
   ]
  },
  {
   "cell_type": "code",
   "execution_count": 1,
   "id": "90d7fd0a-ee29-4ebf-90bb-3e62fd68d75a",
   "metadata": {},
   "outputs": [],
   "source": [
    "student = {\n",
    "    \"name\": \"Abhay\",\n",
    "    \"age\": 22,\n",
    "    \"score\": 90\n",
    "}"
   ]
  },
  {
   "cell_type": "markdown",
   "id": "048046a7-008e-4a21-a35a-1653fafff52c",
   "metadata": {},
   "source": [
    "#### How It Works (Behind the Scenes)"
   ]
  },
  {
   "cell_type": "markdown",
   "id": "6c91466f-aff3-48fc-8192-37ba9bc1ba0d",
   "metadata": {},
   "source": [
    "##### Python uses a hash function (internally hash()) to convert a key (like \"name\") into a unique integer.\n",
    "\n",
    "- That integer determines where the value is stored in memory.\n",
    "\n",
    "- This makes lookup and insertion operations on average O(1) time complexity.\n"
   ]
  },
  {
   "cell_type": "markdown",
   "id": "c117913f-ade0-469c-a165-cb3c045f31da",
   "metadata": {},
   "source": [
    "#### Why HashMaps Are Useful"
   ]
  },
  {
   "cell_type": "markdown",
   "id": "da3604e4-991c-4d83-bbd9-851db660ba0d",
   "metadata": {},
   "source": [
    "- Fast access to data (constant time O(1) for insert/search/delete).\n",
    "- Easy to model relationships between values.\n",
    "- Useful in LeetCode for counting, grouping, caching, frequency, etc."
   ]
  },
  {
   "cell_type": "markdown",
   "id": "f051e74b-ec07-4cc8-bcee-e7acffd730a1",
   "metadata": {},
   "source": [
    "#### Theory You Must Learn Before Solving HashMap Questions"
   ]
  },
  {
   "cell_type": "markdown",
   "id": "995ba1eb-eb70-4745-b75a-e4685a6c920d",
   "metadata": {},
   "source": [
    "##### Here’s a mini syllabus for learning HashMap theory in Python:"
   ]
  },
  {
   "cell_type": "markdown",
   "id": "285c4c35-fd67-4e8c-9ac7-074969e27daf",
   "metadata": {},
   "source": [
    "##### 1. Basic Python Dictionary Usage"
   ]
  },
  {
   "cell_type": "markdown",
   "id": "9f3ee2b8-52ed-4067-92af-b51a8d6811fb",
   "metadata": {},
   "source": [
    "- Creating a dictionary: my_dict = {} or dict()\n",
    "- Inserting: my_dict[\"key\"] = value\n",
    "- Accessing: value = my_dict[\"key\"]\n",
    "- Removing: del my_dict[\"key\"]"
   ]
  },
  {
   "cell_type": "markdown",
   "id": "48cbf704-1579-48a1-9495-b99ccc8cd7e8",
   "metadata": {},
   "source": [
    "for key, value in my_dict.items():\n",
    "    print(key, value)"
   ]
  },
  {
   "cell_type": "markdown",
   "id": "98422a1a-597a-4212-974c-3622afacd791",
   "metadata": {},
   "source": [
    "##### 2. Dictionary Methods"
   ]
  },
  {
   "cell_type": "markdown",
   "id": "c8f23be1-4019-40c7-9585-6e2e688fcab4",
   "metadata": {},
   "source": [
    "- .get(key, default)\n",
    "- .keys(), .values(), .items()\n",
    "- .update(), .pop(), .clear()"
   ]
  },
  {
   "cell_type": "markdown",
   "id": "85950a82-62dc-4b37-8a31-1397f4ed43f5",
   "metadata": {},
   "source": [
    "##### 3. Hashing Concepts"
   ]
  },
  {
   "cell_type": "markdown",
   "id": "64770e51-6288-41aa-9059-004f51ff03d4",
   "metadata": {},
   "source": [
    "- Understand that dict uses hashing internally.\n",
    "- Learn what hash collisions are and how Python handles them (via chaining).\n",
    "- Understand mutable vs immutable types — only immutable types (like strings, numbers, tuples) can be keys."
   ]
  },
  {
   "cell_type": "markdown",
   "id": "314392dc-e6c4-471d-a4fe-f9a6cccca702",
   "metadata": {},
   "source": [
    "##### 4. Common Use Cases in Coding Problems"
   ]
  },
  {
   "cell_type": "markdown",
   "id": "1b3eca85-38b2-439e-95a4-a8eef1e62bf4",
   "metadata": {},
   "source": [
    "- Counting frequency of items (like collections.Counter)\n",
    "- Checking for duplicates\n",
    "- Grouping items (e.g., anagrams)\n",
    "- Caching/memoization\n",
    "- HashMap with list or set as values (dict[str, list[int]])"
   ]
  },
  {
   "cell_type": "code",
   "execution_count": 2,
   "id": "bca22715-d582-4046-9539-3e7e6fadc212",
   "metadata": {},
   "outputs": [
    {
     "name": "stdout",
     "output_type": "stream",
     "text": [
      "10\n",
      "Found banana\n",
      "apple -> 10\n",
      "banana -> 20\n"
     ]
    }
   ],
   "source": [
    "my_map = {}\n",
    "\n",
    "# Inserting values\n",
    "my_map[\"apple\"] = 10\n",
    "my_map[\"banana\"] = 20\n",
    "\n",
    "# Accessing values\n",
    "print(my_map[\"apple\"])  # Output: 10\n",
    "\n",
    "# Check if key exists\n",
    "if \"banana\" in my_map:\n",
    "    print(\"Found banana\")\n",
    "\n",
    "# Iterate through map\n",
    "for key, value in my_map.items():\n",
    "    print(f\"{key} -> {value}\")\n"
   ]
  },
  {
   "cell_type": "markdown",
   "id": "f3bb9713-8a91-4e6a-8942-0c75aa533e01",
   "metadata": {},
   "source": [
    "##### Implementation of Hash Table in Python"
   ]
  },
  {
   "cell_type": "code",
   "execution_count": null,
   "id": "04b22d0e-b901-4dde-ac42-2cb27c5c86a6",
   "metadata": {},
   "outputs": [],
   "source": [
    "class HashTable:\n",
    "    def __init__(self, size):\n",
    "        self.size = size\n",
    "        self.table = [[] for _ in range(size)]\n",
    "\n",
    "    def hash_function(self, key):\n",
    "        return hash(key) % self.size\n",
    "\n",
    "    def insert(self, key, value):\n",
    "        index = self.hash_function(key)\n",
    "        for i, (k, v) in enumerate(self.table[index]):\n",
    "            if k == key:\n",
    "                self.table[index][i] = (key, value)\n",
    "                return\n",
    "        self.table[index].append((key, value))\n",
    "\n",
    "    def search(self, key):\n",
    "        index = self.hash_function(key)\n",
    "        for k, v in self.table[index]:\n",
    "            if k == key:\n",
    "                return v\n",
    "        return None\n",
    "\n",
    "    def delete(self, key):\n",
    "        index = self.hash_function(key)\n",
    "        for i, (k, v) in enumerate(self.table[index]):\n",
    "            if k == key:\n",
    "                del self.table[index][i]\n",
    "                return\n",
    "\n",
    "    def print_table(self):\n",
    "        for i, bucket in enumerate(self.table):\n",
    "            print(f\"[{i}]:\", end=\" \")\n",
    "            for k, v in bucket:\n",
    "                print(f\"({k}, {v}) ->\", end=\" \")\n",
    "            print(\"NULL\")\n",
    "\n",
    "# Example usage\n",
    "ht = HashTable(10)\n",
    "\n",
    "ht.insert(\"apple\", 1)\n",
    "ht.insert(\"banana\", 2)\n",
    "ht.insert(\"orange\", 3)\n",
    "\n",
    "ht.print_table()\n",
    "\n",
    "print(\"Search for 'apple':\", ht.search(\"apple\"))\n",
    "print(\"Search for 'grape':\", ht.search(\"grape\"))\n",
    "\n",
    "ht.delete(\"banana\")\n",
    "ht.print_table()"
   ]
  }
 ],
 "metadata": {
  "kernelspec": {
   "display_name": "Python 3 (ipykernel)",
   "language": "python",
   "name": "python3"
  },
  "language_info": {
   "codemirror_mode": {
    "name": "ipython",
    "version": 3
   },
   "file_extension": ".py",
   "mimetype": "text/x-python",
   "name": "python",
   "nbconvert_exporter": "python",
   "pygments_lexer": "ipython3",
   "version": "3.13.0"
  }
 },
 "nbformat": 4,
 "nbformat_minor": 5
}
