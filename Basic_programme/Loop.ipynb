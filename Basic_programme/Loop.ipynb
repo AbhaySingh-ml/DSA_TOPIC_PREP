{
 "cells": [
  {
   "cell_type": "markdown",
   "id": "271f7631-b48f-45b6-8b33-f3cc3527d163",
   "metadata": {},
   "source": [
    "#### Use a **for loop** when:"
   ]
  },
  {
   "cell_type": "markdown",
   "id": "0b12c148-5a1c-4850-90e6-9fea328b0a2d",
   "metadata": {},
   "source": [
    "##### You know in advance how many times you want to iterate (i.e., you have a fixed number of elements or a range of numbers)."
   ]
  },
  {
   "cell_type": "markdown",
   "id": "be7618e2-b4fb-41d6-9a68-6cb34ac2b24c",
   "metadata": {},
   "source": [
    "#### Examples:\n",
    "- Looping through a list or string:\n",
    "- Iterating a fixed number of times using range():\n",
    "- Looping through dictionary keys or items:"
   ]
  },
  {
   "cell_type": "markdown",
   "id": "64faa481-edb7-4490-8150-7c8eed87ad52",
   "metadata": {},
   "source": [
    "#### Use a **while loop** when:"
   ]
  },
  {
   "cell_type": "markdown",
   "id": "e598bd8c-a66b-4fb7-ae91-e047acf71df6",
   "metadata": {},
   "source": [
    "##### You don't know how many times you need to loop — you want to continue until a condition becomes false."
   ]
  },
  {
   "cell_type": "markdown",
   "id": "95ca1ce7-aed2-4824-ad36-e9b22c48d607",
   "metadata": {},
   "source": [
    "#### Examples:\n",
    "- Waiting for a user to enter a valid input:\n",
    "- Looping until a condition changes:\n",
    "- Reading from a file until the end"
   ]
  },
  {
   "cell_type": "code",
   "execution_count": null,
   "id": "82e91091-2bb7-4b99-b02e-dc78fa82b04e",
   "metadata": {},
   "outputs": [],
   "source": []
  }
 ],
 "metadata": {
  "kernelspec": {
   "display_name": "Python 3 (ipykernel)",
   "language": "python",
   "name": "python3"
  },
  "language_info": {
   "codemirror_mode": {
    "name": "ipython",
    "version": 3
   },
   "file_extension": ".py",
   "mimetype": "text/x-python",
   "name": "python",
   "nbconvert_exporter": "python",
   "pygments_lexer": "ipython3",
   "version": "3.13.0"
  }
 },
 "nbformat": 4,
 "nbformat_minor": 5
}
