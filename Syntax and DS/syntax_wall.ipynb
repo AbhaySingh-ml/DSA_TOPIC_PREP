{
 "cells": [
  {
   "cell_type": "markdown",
   "id": "1c994c7c",
   "metadata": {},
   "source": [
    "## 🔹 Variables and Print"
   ]
  },
  {
   "cell_type": "code",
   "execution_count": null,
   "id": "89f65cac",
   "metadata": {},
   "outputs": [],
   "source": [
    "name = \"Abhay\"\n",
    "age = 22\n",
    "print(\"Name:\", name)\n",
    "print(\"Age:\", age)"
   ]
  },
  {
   "cell_type": "markdown",
   "id": "e72c8f46",
   "metadata": {},
   "source": []
  },
  {
   "cell_type": "markdown",
   "id": "6b1e9bef",
   "metadata": {},
   "source": [
    "## 🔹 Conditional Statements"
   ]
  },
  {
   "cell_type": "code",
   "execution_count": null,
   "id": "b0459837",
   "metadata": {},
   "outputs": [],
   "source": [
    "x = 10\n",
    "if x > 0:\n",
    "    print(\"Positive\")\n",
    "elif x == 0:\n",
    "    print(\"Zero\")\n",
    "else:\n",
    "    print(\"Negative\")"
   ]
  },
  {
   "cell_type": "markdown",
   "id": "e2a5cf42",
   "metadata": {},
   "source": [
    "## 🔹 Loops\n"
   ]
  },
  {
   "cell_type": "markdown",
   "id": "0e87d3ac",
   "metadata": {},
   "source": [
    "#### for loop"
   ]
  },
  {
   "cell_type": "code",
   "execution_count": 1,
   "id": "c1b5dea7",
   "metadata": {},
   "outputs": [
    {
     "name": "stdout",
     "output_type": "stream",
     "text": [
      "i = 0\n",
      "i = 1\n",
      "i = 2\n",
      "i = 3\n",
      "i = 4\n"
     ]
    }
   ],
   "source": [
    "for i in range(5):\n",
    "    print(\"i =\", i)\n"
   ]
  },
  {
   "cell_type": "markdown",
   "id": "0bb29f54",
   "metadata": {},
   "source": [
    "#### while loop"
   ]
  },
  {
   "cell_type": "markdown",
   "id": "1f3c8714",
   "metadata": {},
   "source": [
    "##"
   ]
  },
  {
   "cell_type": "code",
   "execution_count": 2,
   "id": "3fef130f",
   "metadata": {},
   "outputs": [
    {
     "name": "stdout",
     "output_type": "stream",
     "text": [
      "count = 0\n",
      "count = 1\n",
      "count = 2\n",
      "count = 3\n",
      "count = 4\n"
     ]
    }
   ],
   "source": [
    "count = 0\n",
    "while count < 5:\n",
    "    print(\"count =\", count)\n",
    "    count += 1\n"
   ]
  },
  {
   "cell_type": "markdown",
   "id": "4789d0d3",
   "metadata": {},
   "source": [
    "## 🔹 Functions\n"
   ]
  },
  {
   "cell_type": "code",
   "execution_count": 3,
   "id": "493b2e80",
   "metadata": {},
   "outputs": [
    {
     "name": "stdout",
     "output_type": "stream",
     "text": [
      "Hello, Abhay!\n"
     ]
    }
   ],
   "source": [
    "def greet(name):\n",
    "    return f\"Hello, {name}!\"\n",
    "\n",
    "print(greet(\"Abhay\"))\n"
   ]
  },
  {
   "cell_type": "code",
   "execution_count": null,
   "id": "91867c45",
   "metadata": {},
   "outputs": [],
   "source": []
  }
 ],
 "metadata": {
  "kernelspec": {
   "display_name": "Python 3",
   "language": "python",
   "name": "python3"
  },
  "language_info": {
   "codemirror_mode": {
    "name": "ipython",
    "version": 3
   },
   "file_extension": ".py",
   "mimetype": "text/x-python",
   "name": "python",
   "nbconvert_exporter": "python",
   "pygments_lexer": "ipython3",
   "version": "3.13.0"
  }
 },
 "nbformat": 4,
 "nbformat_minor": 5
}
